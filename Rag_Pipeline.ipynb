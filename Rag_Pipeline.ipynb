{
 "cells": [
  {
   "cell_type": "code",
   "id": "initial_id",
   "metadata": {
    "collapsed": true,
    "ExecuteTime": {
     "end_time": "2025-09-17T03:32:35.643967Z",
     "start_time": "2025-09-17T03:32:30.112640Z"
    }
   },
   "source": "!pip install -q langchain langchain-openai openai chromadb gradio python-dotenv tiktoken langchain-community",
   "outputs": [
    {
     "name": "stderr",
     "output_type": "stream",
     "text": [
      "\n",
      "[notice] A new release of pip is available: 25.1.1 -> 25.2\n",
      "[notice] To update, run: python.exe -m pip install --upgrade pip\n"
     ]
    }
   ],
   "execution_count": 28
  },
  {
   "metadata": {
    "ExecuteTime": {
     "end_time": "2025-09-17T03:32:39.408951Z",
     "start_time": "2025-09-17T03:32:35.713720Z"
    }
   },
   "cell_type": "code",
   "source": [
    "!pip install --upgrade openai\n",
    "from openai import OpenAI\n",
    "import os\n",
    "from dotenv import load_dotenv\n",
    "load_dotenv()\n",
    "\n",
    "openai_api_key = os.getenv(\"OPENAI_API_KEY\")\n",
    "openai_client = OpenAI(base_url=\"https://openrouter.ai/api/v1\"\n",
    "                       ,api_key=openai_api_key)\n",
    "print(\"Successfully connected to OpenRouter\")\n",
    "print(openai_api_key[:5])"
   ],
   "id": "d63cf9db8d8c2a30",
   "outputs": [
    {
     "name": "stdout",
     "output_type": "stream",
     "text": [
      "Requirement already satisfied: openai in c:\\users\\940pp\\pycharmprojects\\jupyterproject\\.venv\\lib\\site-packages (1.107.3)\n",
      "Requirement already satisfied: anyio<5,>=3.5.0 in c:\\users\\940pp\\pycharmprojects\\jupyterproject\\.venv\\lib\\site-packages (from openai) (4.10.0)\n",
      "Requirement already satisfied: distro<2,>=1.7.0 in c:\\users\\940pp\\pycharmprojects\\jupyterproject\\.venv\\lib\\site-packages (from openai) (1.9.0)\n",
      "Requirement already satisfied: httpx<1,>=0.23.0 in c:\\users\\940pp\\pycharmprojects\\jupyterproject\\.venv\\lib\\site-packages (from openai) (0.28.1)\n",
      "Requirement already satisfied: jiter<1,>=0.4.0 in c:\\users\\940pp\\pycharmprojects\\jupyterproject\\.venv\\lib\\site-packages (from openai) (0.10.0)\n",
      "Requirement already satisfied: pydantic<3,>=1.9.0 in c:\\users\\940pp\\pycharmprojects\\jupyterproject\\.venv\\lib\\site-packages (from openai) (2.11.7)\n",
      "Requirement already satisfied: sniffio in c:\\users\\940pp\\pycharmprojects\\jupyterproject\\.venv\\lib\\site-packages (from openai) (1.3.1)\n",
      "Requirement already satisfied: tqdm>4 in c:\\users\\940pp\\pycharmprojects\\jupyterproject\\.venv\\lib\\site-packages (from openai) (4.67.1)\n",
      "Requirement already satisfied: typing-extensions<5,>=4.11 in c:\\users\\940pp\\pycharmprojects\\jupyterproject\\.venv\\lib\\site-packages (from openai) (4.15.0)\n",
      "Requirement already satisfied: idna>=2.8 in c:\\users\\940pp\\pycharmprojects\\jupyterproject\\.venv\\lib\\site-packages (from anyio<5,>=3.5.0->openai) (3.10)\n",
      "Requirement already satisfied: certifi in c:\\users\\940pp\\pycharmprojects\\jupyterproject\\.venv\\lib\\site-packages (from httpx<1,>=0.23.0->openai) (2025.8.3)\n",
      "Requirement already satisfied: httpcore==1.* in c:\\users\\940pp\\pycharmprojects\\jupyterproject\\.venv\\lib\\site-packages (from httpx<1,>=0.23.0->openai) (1.0.9)\n",
      "Requirement already satisfied: h11>=0.16 in c:\\users\\940pp\\pycharmprojects\\jupyterproject\\.venv\\lib\\site-packages (from httpcore==1.*->httpx<1,>=0.23.0->openai) (0.16.0)\n",
      "Requirement already satisfied: annotated-types>=0.6.0 in c:\\users\\940pp\\pycharmprojects\\jupyterproject\\.venv\\lib\\site-packages (from pydantic<3,>=1.9.0->openai) (0.7.0)\n",
      "Requirement already satisfied: pydantic-core==2.33.2 in c:\\users\\940pp\\pycharmprojects\\jupyterproject\\.venv\\lib\\site-packages (from pydantic<3,>=1.9.0->openai) (2.33.2)\n",
      "Requirement already satisfied: typing-inspection>=0.4.0 in c:\\users\\940pp\\pycharmprojects\\jupyterproject\\.venv\\lib\\site-packages (from pydantic<3,>=1.9.0->openai) (0.4.1)\n",
      "Requirement already satisfied: colorama in c:\\users\\940pp\\pycharmprojects\\jupyterproject\\.venv\\lib\\site-packages (from tqdm>4->openai) (0.4.6)\n"
     ]
    },
    {
     "name": "stderr",
     "output_type": "stream",
     "text": [
      "\n",
      "[notice] A new release of pip is available: 25.1.1 -> 25.2\n",
      "[notice] To update, run: python.exe -m pip install --upgrade pip\n"
     ]
    },
    {
     "name": "stdout",
     "output_type": "stream",
     "text": [
      "Successfully connected to OpenRouter\n",
      "sk-or\n"
     ]
    }
   ],
   "execution_count": 29
  },
  {
   "metadata": {
    "ExecuteTime": {
     "end_time": "2025-09-17T03:32:39.459428Z",
     "start_time": "2025-09-17T03:32:39.454420Z"
    }
   },
   "cell_type": "code",
   "source": [
    "# Let's import Langchain components\n",
    "from langchain_openai import OpenAIEmbeddings, OpenAI\n",
    "from langchain.vectorstores import Chroma\n",
    "from langchain.text_splitter import RecursiveCharacterTextSplitter\n",
    "from langchain.document_loaders import TextLoader\n",
    "from langchain.chains import RetrievalQAWithSourcesChain"
   ],
   "id": "f9be9ecbe6e7fac4",
   "outputs": [],
   "execution_count": 30
  },
  {
   "metadata": {
    "ExecuteTime": {
     "end_time": "2025-09-17T03:32:39.477065Z",
     "start_time": "2025-09-17T03:32:39.471382Z"
    }
   },
   "cell_type": "code",
   "source": [
    "DATA_FILE_PATH = \"eleven_madison_park_data.txt\"\n",
    "print(f\"Data file path set to: {DATA_FILE_PATH}\")"
   ],
   "id": "e76a88e67b6f1bbb",
   "outputs": [
    {
     "name": "stdout",
     "output_type": "stream",
     "text": [
      "Data file path set to: eleven_madison_park_data.txt\n"
     ]
    }
   ],
   "execution_count": 31
  },
  {
   "metadata": {
    "ExecuteTime": {
     "end_time": "2025-09-17T03:32:39.508244Z",
     "start_time": "2025-09-17T03:32:39.499551Z"
    }
   },
   "cell_type": "code",
   "source": [
    "# Let's load Eleven Madison Park Restaurant data, which has been scraped from their website\n",
    "# The data is saved in \"eleven_madison_park_data.txt\", Langchain's TextLoader makes this easy to read\n",
    "print(f\"Attempting to load data from: {DATA_FILE_PATH}\")\n",
    "\n",
    "# Initialize the TextLoader with the file path and specify UTF-8 encoding\n",
    "# Encoding helps handle various characters correctly\n",
    "loader = TextLoader(DATA_FILE_PATH, encoding = \"utf-8\")\n",
    "\n",
    "# Load the document(s) using TextLoader from LangChain, which loads the entire file as one Document object\n",
    "raw_documents = loader.load()\n",
    "print(f\"Successfully loaded {len(raw_documents)} document(s).\")\n"
   ],
   "id": "d3a4c8de8291b33c",
   "outputs": [
    {
     "name": "stdout",
     "output_type": "stream",
     "text": [
      "Attempting to load data from: eleven_madison_park_data.txt\n",
      "Successfully loaded 1 document(s).\n"
     ]
    }
   ],
   "execution_count": 32
  },
  {
   "metadata": {
    "ExecuteTime": {
     "end_time": "2025-09-17T03:32:39.585861Z",
     "start_time": "2025-09-17T03:32:39.572297Z"
    }
   },
   "cell_type": "code",
   "source": [
    "# Let's split the document into chunks\n",
    "print(\"\\nSplitting the loaded document into smaller chunks...\")\n",
    "\n",
    "# Let's initialize the splitter, which tries to split the document on common separators like paragraphs (\\n\\n),\n",
    "# sentences (.), and spaces (' ').\n",
    "text_splitter = RecursiveCharacterTextSplitter(chunk_size = 1000,  # Aim for chunks of about 1000 characters\n",
    "                                               chunk_overlap = 150,)  # Each chunk overlaps with the previous by 150 characters\n",
    "\n",
    "# Split the raw document(s) into smaller Document objects (chunks)\n",
    "documents = text_splitter.split_documents(raw_documents)\n",
    "\n",
    "# Check if splitting produced any documents\n",
    "if not documents:\n",
    "    raise ValueError(\"Error: Splitting resulted in zero documents. Check the input file and splitter settings.\")\n",
    "print(f\"Document split into {len(documents)} chunks.\")\n"
   ],
   "id": "96d03ee2ae63c8fd",
   "outputs": [
    {
     "name": "stdout",
     "output_type": "stream",
     "text": [
      "\n",
      "Splitting the loaded document into smaller chunks...\n",
      "Document split into 38 chunks.\n"
     ]
    }
   ],
   "execution_count": 33
  },
  {
   "metadata": {
    "ExecuteTime": {
     "end_time": "2025-09-17T03:32:39.634319Z",
     "start_time": "2025-09-17T03:32:39.624241Z"
    }
   },
   "cell_type": "code",
   "source": "documents",
   "id": "c8d2ac827823ffd4",
   "outputs": [
    {
     "data": {
      "text/plain": [
       "[Document(metadata={'source': 'eleven_madison_park_data.txt'}, page_content='Source: https://www.elevenmadisonpark.com/\\nTitle: Eleven Madison Park\\nContent:\\nBook on Resy\\n---END OF SOURCE---'),\n",
       " Document(metadata={'source': 'eleven_madison_park_data.txt'}, page_content='Source: https://www.elevenmadisonpark.com/careers\\nTitle: Careers — Eleven Madison Park\\nContent:'),\n",
       " Document(metadata={'source': 'eleven_madison_park_data.txt'}, page_content=\"Join Our Team Eleven Madison Park ▾ All Businesses Eleven Madison Park Clemente Bar Daniel Humm Hospitality Filter Categories Culinary Pastry Wine & Beverage Dining Room Office & Admin Other Job Types Full Time Part Time Compensation Salary Hourly Apply filters OPEN OPPORTUNITIES Staff Accountant - Part Time Eleven Madison Park Part Time • Hourly ($20 - $25) Host/Reservationist Eleven Madison Park Full Time • Hourly ($24) Sous Chef Eleven Madison Park Full Time • Salary ($72K - $75K) Pastry Cook Eleven Madison Park Full Time • Hourly ($18 - $20) Kitchen Server Eleven Madison Park Full Time • Hourly ($16) plus tips Dining Room Manager Eleven Madison Park Full Time • Salary ($72K - $75K) Porter Manager Eleven Madison Park Full Time • Salary ($70K - $75K) Senior Sous Chef Eleven Madison Park Full Time • Salary ($85K - $95K) Maitre D Eleven Madison Park Full Time • Hourly ($16) plus tips Even if you don't see the opportunity you're looking for, we would still love to hear from you. There\"),\n",
       " Document(metadata={'source': 'eleven_madison_park_data.txt'}, page_content=\"Madison Park Full Time • Hourly ($16) plus tips Even if you don't see the opportunity you're looking for, we would still love to hear from you. There may be a place for you on our team as we grow. × Where Do You Want To Work? Eleven Madison Park Clemente Bar Daniel Humm Hospitality I Want to Work Here\"),\n",
       " Document(metadata={'source': 'eleven_madison_park_data.txt'}, page_content='---END OF SOURCE---'),\n",
       " Document(metadata={'source': 'eleven_madison_park_data.txt'}, page_content='Source: https://www.elevenmadisonpark.com/giftcards\\nTitle: Gift Cards — Eleven Madison Park\\nContent:\\nGift Cards Purchase Gift Cards Here Please note that all gift card sales are final and nonrefundable.\\n---END OF SOURCE---'),\n",
       " Document(metadata={'source': 'eleven_madison_park_data.txt'}, page_content='Source: https://www.elevenmadisonpark.com/press-and-accolades\\nTitle: Press and Accolades — Eleven Madison Park\\nContent:\\nAccolades World’s 50 Best Best of the Best The New York Times Four Stars Michelin Guide Three Stars Wine Spectator Grand Award The World of Fine Wine Best Overall Wine List James Beard Foundation Outstanding Chef, Outstanding Service, Outstanding Pastry Chef, Outstanding Restaurant, Best Chef: NYC, Outstanding Wine Service, Rising Star Chef Recent Press Time: “Is Cooking for the 1% for a Reason” Washington Post: “The Joy of Plant-Based Eating” Interview: “Daniel Humm Is Begging You to Eat More Plants” Financial Times: \"Epicurean escapes: Alain Ducasse and Daniel Humm’s transatlantic adventure\" The Strategist: “What Chef Daniel Humm Can’t Live Without”\\n---END OF SOURCE---'),\n",
       " Document(metadata={'source': 'eleven_madison_park_data.txt'}, page_content='Source: https://www.elevenmadisonpark.com/accessibility-statement\\nTitle: Accessibility Statement — Eleven Madison Park\\nContent:\\nAccessibility Statement Eleven Madison Park is committed to providing digital accessibility for everyone. Our ongoing accessibility effort works towards conforming to the Web Content Accessibility Guidelines (WCAG) version 2.1, level AA criteria. These guidelines not only help make web content accessible to users with sensory, cognitive and mobility disabilities, but ultimately to all users, regardless of ability. Our ongoing accessibility efforts work toward making ElevenMadisonPark.com as accessible as possible. Eleven Madison Park welcomes comments on how to improve the site’s accessibility for users with disabilities. Please email: info@elevenmadisonpark.com .\\n---END OF SOURCE---\\n\\nSource: https://www.elevenmadisonpark.com/cart\\nTitle: Eleven Madison Park\\nContent:\\nShopping Cart You have nothing in your shopping cart. Continue Shopping\\n---END OF SOURCE---'),\n",
       " Document(metadata={'source': 'eleven_madison_park_data.txt'}, page_content='Source: https://www.elevenmadisonpark.com/faq\\nTitle: FAQs — Eleven Madison Park\\nContent:'),\n",
       " Document(metadata={'source': 'eleven_madison_park_data.txt'}, page_content='FAQs We are located at 11 Madison Avenue, on the northeast corner of East 24th and Madison Avenue, directly across the street from Madison Square Park. We offer three menus, all 100% plant-based: Full Tasting Menu : An eight- to nine-course experience priced at $365 per guest. This menu typically lasts about two to three hours and features a mix of plated and communal dishes. 5-Course Menu : Priced at $285 per guest, this menu highlights selections from the Full Tasting Menu and lasts approximately two hours. Bar Tasting Menu : Available in our lounge for $225 per guest, this menu includes four to five courses and is designed to last around two hours. Note : These durations are estimates based on tables of two. Larger parties may require additional time. We open up reservations on the first of every month for the following month–for example, on October 1st, all of November will be made available. If you find that the reservation you were hoping for is booked, we do hold a waitlist on'),\n",
       " Document(metadata={'source': 'eleven_madison_park_data.txt'}, page_content='on October 1st, all of November will be made available. If you find that the reservation you were hoping for is booked, we do hold a waitlist on Resy and encourage you to add your name to it, and if something becomes available, we will be in touch. All sales are final and non-refundable. We do not offer cancellation or rescheduling options at this time. Eleven Madison Park does not include gratuity for the dining experience. Guests are welcome to leave a desired gratuity at the conclusion of their experience at their discretion. For any questions on our gratuity policies, please contact our guest relations team at info@elevenmadisonpark.com . Not a problem! We will be verifying all food allergies, aversions, and dietary restrictions prior to you joining us, but also at the table when you arrive for your meal. Yes. We offer wine pairings, starting at $125 per guest, as well as a full wine list that our wine team can help you select from and may also be viewed on our website. You are'),\n",
       " Document(metadata={'source': 'eleven_madison_park_data.txt'}, page_content='starting at $125 per guest, as well as a full wine list that our wine team can help you select from and may also be viewed on our website. You are also welcome to bring your own special bottle of wine for your meal for a $75 per 750ml bottle corkage (4 bottle maximum) fee. We do not have a dress code. Many of our guests dress up for the occasion but wear whatever will make you most comfortable. You can reach our reservations team at any time at info@elevenmadisonpark.com . We can accommodate up to seven guests at a table in the main dining room. If you are interested in booking a table for a group larger than this, please contact our Private Dining and Special Events team at events@elevenmadisonpark.com . Yes, you can. Reservations for our Bar Tasting menu are available at our lounge tables and are $225 per guest; you may also order a number of items a la carte. Seats at the bar counter are on a first-come, first-serve basis. You may order our Bar Tasting menu in addition to'),\n",
       " Document(metadata={'source': 'eleven_madison_park_data.txt'}, page_content='a number of items a la carte. Seats at the bar counter are on a first-come, first-serve basis. You may order our Bar Tasting menu in addition to cocktails, light snacks, and our a la carte menu. Unfortunately, Resy does not have the capability to accept gift cards as a form of payment at this time. Please secure your reservation using an alternate payment method, and our accounting team will be happy to help redeem your Eleven Madison Park gift card and credit the form of payment you used to make the booking. Contact Marcia Regen ( mregen@hummhospitality.com ) for help. You can always also bring Eleven Madison Park gift cards into the restaurant when you dine to be used toward any beverage purchased on site. To purchase a Braille gift card, please contact Marcia Regen ( mregen@hummhospitality.com ).'),\n",
       " Document(metadata={'source': 'eleven_madison_park_data.txt'}, page_content='---END OF SOURCE---'),\n",
       " Document(metadata={'source': 'eleven_madison_park_data.txt'}, page_content='Source: https://www.elevenmadisonpark.com/ourrestaurant\\nTitle: About — Eleven Madison Park\\nContent:'),\n",
       " Document(metadata={'source': 'eleven_madison_park_data.txt'}, page_content='Welcome to Eleven Madison Park Eleven Madison Park is a fine dining restaurant in the heart of New York City. Overlooking Madison Square Park–one of Manhattan’s most beautiful green spaces–we sit at the base of a historic Art Deco building on the corner of East 24th Street and Madison Avenue. Since opening in 1998, we underwent a full-scale renovation and redesign in the summer of 2017. Chef Daniel Humm has owned the restaurant since 2011, during which time we have evolved considerably in both cuisine and experience. In 2021, we transitioned to a fully plant-based menu, using no animal products. That same year, we partnered with Magic Farms , which grows produce exclusively for our seasonal menus. Guests can enjoy a full tasting menu, a five-course menu, or a bar menu. The bar also offers à la carte snacks, as well as wine and cocktails. Reservations are available via Resy , and bar seating is open for both walk-ins and reservations. Hours: Monday to Wednesday: 5:30 pm to 10 pm'),\n",
       " Document(metadata={'source': 'eleven_madison_park_data.txt'}, page_content='Reservations are available via Resy , and bar seating is open for both walk-ins and reservations. Hours: Monday to Wednesday: 5:30 pm to 10 pm Thursday to Friday: 5 pm to 11 pm Saturday: 12 pm to 2 pm, 5 pm to 11 pm Sunday: 12 pm to 2 pm, 5 pm to 11 pm View Wine List View Cocktail List Due to the hyper-seasonal nature of our menu, all courses are subject to change. Therefore, we do not share our food menus online. Book on Resy'),\n",
       " Document(metadata={'source': 'eleven_madison_park_data.txt'}, page_content='---END OF SOURCE---'),\n",
       " Document(metadata={'source': 'eleven_madison_park_data.txt'}, page_content='Source: https://www.elevenmadisonpark.com/magic-farms\\nTitle: Magic Farms — Eleven Madison Park\\nContent:'),\n",
       " Document(metadata={'source': 'eleven_madison_park_data.txt'}, page_content='About Magic Farms As part of our transition to a plant-based menu, it was important for us to build a deeper connection to the ingredients we use in our kitchen. In 2021, we partnered with Chef Daniel Humm’s friend, Maciek Kobielski, to create Magic Farms on his family’s land in Hoosick Falls, New York. What began as a passion project for Maciek has become a full-time career. The farm now spans four acres of fields and seven high tunnels, growing produce exclusively for our seasonal menus. At the restaurant, this partnership has profoundly influenced our craft, fostering an ongoing dialogue between chef and farmer that shapes every menu. Our team collaborates with Maciek to plan menus around his harvest cycles and crop rotations, mapping out seasons in advance. Maciek grows each vegetable to our specifications using pesticide-free, regenerative techniques, with harvests peaking in the warmer months. This ensures access to the freshest, most flavorful produce year-round and allows each'),\n",
       " Document(metadata={'source': 'eleven_madison_park_data.txt'}, page_content='techniques, with harvests peaking in the warmer months. This ensures access to the freshest, most flavorful produce year-round and allows each menu to reflect the best of the Northeast’s seasons. Book on Resy Maciek and Chef Humm Cherry Tomato Sunset over Magic Farms Delivery to the Restaurant Squash Blossoms Chefs Mattia and Josh visiting the farm. Badger Flame Beets Garlic Bulbs Sunflower Harvest A Tunnel in Spring Eggplants Greens Growing Radicchio Snow Day Maciek on His Tractor Radish Harvest Lettuces Growing Item 1 of 17'),\n",
       " Document(metadata={'source': 'eleven_madison_park_data.txt'}, page_content='---END OF SOURCE---'),\n",
       " Document(metadata={'source': 'eleven_madison_park_data.txt'}, page_content='Source: https://www.elevenmadisonpark.com/team\\nTitle: Team — Eleven Madison Park\\nContent:'),\n",
       " Document(metadata={'source': 'eleven_madison_park_data.txt'}, page_content='Daniel Humm is a chef, author, speaker, and owner of Daniel Humm Hospitality , the New York-based hospitality group behind the highly acclaimed Eleven Madison Park, Clemente Bar , and direct-to-consumer lifestyle brand Eleven Madison Home . A native of Switzerland, Chef Humm earned his first Michelin star at the age of 24. He is consistently listed as one of the world’s best chefs, with both he and Eleven Madison Park receiving numerous accolades: four stars from The New York Times, seven James Beard Foundation Awards (including Outstanding Chef and Outstanding Restaurant in America), a number one spot on the world’s 50 Best Restaurants list, and three Michelin stars for over 12 years in a row, since 2012. At the height of the COVID-19 pandemic, Chef Humm transformed Eleven Madison Park’s Michelin-starred restaurant and its back-of-house into a commissary kitchen in partnership with Rethink Food , a not-for-profit organization co-founded by Chef Humm. He and his team prepared over'),\n",
       " Document(metadata={'source': 'eleven_madison_park_data.txt'}, page_content='into a commissary kitchen in partnership with Rethink Food , a not-for-profit organization co-founded by Chef Humm. He and his team prepared over 1,000,000 meals over the course of the pandemic for frontline workers and underserved communities and distributed them to churches, shelters, and food banks. In 2021, he reopened Eleven Madison Park with a completely plant-based menu and became the first and only plant-based restaurant in Michelin Guide history to receive a three-star rating in October 2022. Gwendal Poullennec, the International Director of the Michelin Guides, has called Chef Humm and Eleven Madison Park a North Star that young chefs can fix their eyes upon as they navigate their gastronomic journey. Chef Humm uses his global platform to advocate for equitable, sustainable food systems. He wants to inspire people both within and beyond the fine-dining world and build awareness around the transformative power of food. As a leading figure in the culinary realm, he ignited a'),\n",
       " Document(metadata={'source': 'eleven_madison_park_data.txt'}, page_content='and beyond the fine-dining world and build awareness around the transformative power of food. As a leading figure in the culinary realm, he ignited a conversation about challenging the definition of luxury in the food world and how it can be more purpose-driven at the United Nations Climate Change Conference in Glasgow, Scotland, in 2021. He discussed the impact of our food systems on the environment at the 2023’s Global Citizen Summit, joining activists and world leaders such as Canadian Prime Minister Justin Trudeau and French President Macron in setting a global agenda for action on the most urgent issues facing humanity and the planet. In September 2024, he was appointed UNESCO Goodwill Ambassador for Food Education by Audrey Azoulay, UNESCO’s Director-General. Chef Humm is the author of Eleven Madison Park: The Cookbook , I Love New York: Ingredients and Recipes , The NoMad Cookbook, Eleven Madison Park: The Next Chapter , and Eat More Plants . His latest book, titled Eleven'),\n",
       " Document(metadata={'source': 'eleven_madison_park_data.txt'}, page_content='New York: Ingredients and Recipes , The NoMad Cookbook, Eleven Madison Park: The Next Chapter , and Eat More Plants . His latest book, titled Eleven Madison Park: The Plant-Based Chapter , was released in November 2024. Dominique Roy’s passion for cooking began at a young age, baking bread alongside his mother in his hometown of Gatineau, Canada. After attending culinary school at 17 and pastry school at 19, Dom worked for renowned chefs in Canada and France, including Georges Blanc and Jerome Ferrer. He participated in many different cooking competitions, including representing Team Canada in the Luxembourg Culinary World Cup in 2014. Dom always knew he wanted to work for one of the best restaurants in the world, and after staging at Maaemo in Oslo and Mirazur in France, he arrived in New York City from Montréal. He started with Eleven Madison Park in 2015, holding various positions, including Sous Chef and Culinary Research & Development. He also led the opening team of Davies &'),\n",
       " Document(metadata={'source': 'eleven_madison_park_data.txt'}, page_content='Madison Park in 2015, holding various positions, including Sous Chef and Culinary Research & Development. He also led the opening team of Davies & Brook in London in 2019. During the COVID-19 pandemic in 2020, Dom spearheaded the Eleven Madison Park and Rethink Food partnership, leading the program that provided hundreds of thousands of meals to both food-insecure residents of New York City as well as frontline workers. In 2021, he assumed the title of Chef de Cuisine, leading the reopening and building the vision for EMP’s future, and in 2023 he became a partner at Daniel Humm Hospitality. Laura Cronin grew up having a love for food at an early age, working in bakeries in her hometown of Berkeley Heights, New Jersey. After graduating culinary school at Johnson & Wales University in Rhode Island, she moved across the country to pursue a career on the baking team at the San Francisco Baking Institute under the tutelage of Michel Suas. A year later, Laura relocated to Paris and enrolled'),\n",
       " Document(metadata={'source': 'eleven_madison_park_data.txt'}, page_content='on the baking team at the San Francisco Baking Institute under the tutelage of Michel Suas. A year later, Laura relocated to Paris and enrolled at the Ecole Gregoire-Ferrandi, which led to an apprenticeship with Chef Angelo Musa. In 2011, Laura moved back to the States and worked in several restaurants including Zero Zero and Perbacco, where she was named San Francisco Chronicle’s Rising Star Chef and Zagat’s 30 under 30 list. In 2017, Laura moved to New York City to join the Eleven Madison Park team as a Pastry Sous Chef leading the team through the restaurant’s reopening and working closely with Executive Pastry Chef Mark Welker, she assumed the Pastry Chef role in 2019. Originally from New Jersey, Daniel DiStefano is the Executive Culinary Director for Daniel Humm Hospitality. Danny joined the team in 2009, starting as a commis and working his way up to sous chef in 2011. He has been instrumental in launching brands such as Made Nice and Eleven Madison Home. Following the pandemic,'),\n",
       " Document(metadata={'source': 'eleven_madison_park_data.txt'}, page_content='his way up to sous chef in 2011. He has been instrumental in launching brands such as Made Nice and Eleven Madison Home. Following the pandemic, Danny returned as a Managing Partner to spearhead our at-home program and strategic partnerships, and in 2024, Danny assumed the role of Executive Culinary Director. In this role, he leads culinary operations and works closely with Chef Humm and the rest of the culinary development team on menus, partnerships, events, collaborations, and new projects. Josh Harnden was born in Seattle, Washington, where he was raised with a plant-based diet, which fueled his passion for food and the culinary arts from a young age. Immersed in the restaurant industry for over two decades, he worked his way through the Seattle culinary scene—including at the renowned Canlis—before moving to New York in 2011 to help open and manage Chef Daniel Humm’s restaurant at NoMad Hotel. After helping NoMad earn its first Michelin star, Josh was asked to join the team at'),\n",
       " Document(metadata={'source': 'eleven_madison_park_data.txt'}, page_content='open and manage Chef Daniel Humm’s restaurant at NoMad Hotel. After helping NoMad earn its first Michelin star, Josh was asked to join the team at Eleven Madison Park, where he has held a number of different management positions, including leading research and development. In this role, he helped to launch a range of pop-ups and openings for Daniel Humm Hospitality, as well as developing recipes for the NoMad and Eleven Madison Park cookbooks, including this one. He is now a partner and the Creative Culinary Director for Daniel Humm Hospitality. Andrew Chandler was essentially born into restaurants, spending much of his childhood watching his mother command the dining rooms of some of the best restaurants in his home state of Wisconsin. He followed in her footsteps, taking on his first jobs bussing tables and washing dishes as a teenager. After high school, he graduated from University of Wisconsin-Platteville with a bachelor’s degree in Psychology. He went on to spend several years'),\n",
       " Document(metadata={'source': 'eleven_madison_park_data.txt'}, page_content='After high school, he graduated from University of Wisconsin-Platteville with a bachelor’s degree in Psychology. He went on to spend several years working with children with special needs, while simultaneously working full time in some of the best restaurants in Milwaukee, including Riversite and Braise. Eventually it became clear that his true calling was working in the dining room, and in 2012 he moved across the country to start as a Kitchen Server at Eleven Madison Park. Andrew has worked through nearly every position in the restaurant, making the transition to management in 2016. Within Make it Nice he has led the team through the pop-up EMP Summer House, the subsequent reopening of Eleven Madison Park, and the opening of Davies and Brook in London. For our General Manager, Gabriel Di Bella, an understanding of delicious food and wine runs in the family. The son of an Italian chef, he grew up helping out in his parents’ restaurant in France. As a young adult, he studied at the'),\n",
       " Document(metadata={'source': 'eleven_madison_park_data.txt'}, page_content='wine runs in the family. The son of an Italian chef, he grew up helping out in his parents’ restaurant in France. As a young adult, he studied at the wine school of Tain-l’Hermitage in the heart of the Rhône Valley, before joining the wine team at Alain Ducasse in Monaco. He later spent time at Marcus at The Berkeley and the Birley Clubs in London. Gabriel came on board at Daniel Humm Hospitality as the opening Wine Director for Davies & Brook in 2019, and in 2021, he joined us at Eleven Madison Park as our Wine Director. Today, he leads the team as our General Manager. Our Wine Director, Adam Waddell, was born and raised on the West Coast, where he started violin studies at the age of four. After coming to New York in 2010 to continue studies in Classical Violin Performance, he soon developed a new-found passion for wine and hospitality. Since then, he has worked at many well-known New York City restaurants, such as Jean-Georges, Ai Fiori, and Gabriel Kreuther. Adam was the first'),\n",
       " Document(metadata={'source': 'eleven_madison_park_data.txt'}, page_content='Since then, he has worked at many well-known New York City restaurants, such as Jean-Georges, Ai Fiori, and Gabriel Kreuther. Adam was the first Head Sommelier at SAGA by Jamal James Kent and joined Eleven Madison Park in 2023 as Associate Wine Director. In 2025, he was named Wine Director and now leads the program with dedication and expertise. Sebastian Tollius has been perfecting his craft in the hospitality industry for almost 15 years. Before joining us at Eleven Madison Park in 2019, he worked in some of the best bars and hotels around the world, including in Switzerland, Thailand, and Spain. Bringing a range of innovative concepts and a culinary approach, Sebastian expertly led our Beverage team through our 2021 re-opening and plant-based transition, and he has transformed our cocktail program through new plant-based techniques and ingredients. He and his team now work closely with our chefs in the kitchen to create a brand-new cocktail menu each season that complements and'),\n",
       " Document(metadata={'source': 'eleven_madison_park_data.txt'}, page_content='and ingredients. He and his team now work closely with our chefs in the kitchen to create a brand-new cocktail menu each season that complements and highlights ingredients from the tasting menu – constantly pushing boundaries when it comes to both technique and flavor. Mattia Rancati, Senior Sous Chef Stefano Casale , Senior Sous Chef Davide Peli, Sous Chef Luis Garcia, Sous Chef Marissa Mazzella, Sous Chef Pascal Rauwolf, Executive Pastry Sous Chef Orianna Mendez, Junior Pastry Sous Chef Pooja Harsora, Junior Sous Chef Youngbo Lee, Junior Sous Chef Alexander Mies, Purchasing Manager James Gale, Service Director Harry Basley, Dining Room Manager Eliazar Cervantes, Restaurant Operations Manager Marina Dos Santos Malta, Guest Relations Manager Caitlin McBride, Private Dining Room Manager'),\n",
       " Document(metadata={'source': 'eleven_madison_park_data.txt'}, page_content='---END OF SOURCE---'),\n",
       " Document(metadata={'source': 'eleven_madison_park_data.txt'}, page_content='Source: https://www.elevenmadisonpark.com/events\\nTitle: Events — Eleven Madison Park\\nContent:\\nEvents & Private Dining Our restaurant offers a variety of stunning spaces to suit any event, from intimate gatherings to grand celebrations. Each space has its own unique character, seamlessly blending art, design, and exceptional hospitality. Whether you envision a seated dinner, a cocktail reception, or a corporate meeting, our thoughtfully designed venues can be tailored to your needs. For more information about hosting an event with us, please review our Private Events Deck , or contact the Private Dining and Special Events Department using the form linked below. Learn More Inquire\\n---END OF SOURCE---'),\n",
       " Document(metadata={'source': 'eleven_madison_park_data.txt'}, page_content='Source: https://www.elevenmadisonpark.com/contact\\nTitle: Contact — Eleven Madison Park\\nContent:\\nContact Us Visit Resy Note: We open up reservations on the first of every month for the following month - for example, on October 1st, all of November will be made available. If you find that the reservation you were hoping for is booked, we do hold a waitlist and encourage you to add your name to it, and if something does become available, we will be in touch. Please contact careers@elevenmadisonpark.com or visit Culinary Agents . To stay up to date about future Eleven Madison Park news and events, please sign up for our Newsletter . Please contact events@elevenmadisonpark.com Please contact press@elevenmadisonpark.com Thank you for thinking of Eleven Madison Park for your inquiry. At this time, all of our non-profit efforts are focused on our partnership with Rethink Food . Email: info@elevenmadisonpark.com Phone: 212.889.0905 Ext. 3\\n---END OF SOURCE---')]"
      ]
     },
     "execution_count": 34,
     "metadata": {},
     "output_type": "execute_result"
    }
   ],
   "execution_count": 34
  },
  {
   "metadata": {
    "ExecuteTime": {
     "end_time": "2025-09-17T03:32:47.925077Z",
     "start_time": "2025-09-17T03:32:39.680212Z"
    }
   },
   "cell_type": "code",
   "source": [
    "from sentence_transformers import SentenceTransformer\n",
    "from langchain_core.embeddings import Embeddings\n",
    "from openai import OpenAI\n",
    "from langchain_chroma import Chroma\n",
    "\n",
    "# Let's initialize our embeddings model. Note that we will use OpenAI's embedding model\n",
    "\n",
    "print(\"Initializing free HuggingFace Embeddings model...\")\n",
    "\n",
    "class HuggingFaceEmbeddings(Embeddings):\n",
    "    def __init__(self, model_name=\"sentence-transformers/all-MiniLM-L6-v2\"):\n",
    "        self.model = SentenceTransformer(model_name)\n",
    "\n",
    "    def embed_documents(self, texts):\n",
    "        return self.model.encode(texts).tolist()\n",
    "\n",
    "    def embed_query(self, text):\n",
    "        return self.model.encode([text])[0].tolist()\n",
    "\n",
    "\n",
    "# ✅ Free model load kar (fast + small)\n",
    "embeddings = HuggingFaceEmbeddings(\n",
    "    model_name=\"sentence-transformers/all-MiniLM-L6-v2\"\n",
    ")\n",
    "\n",
    "vector_store = Chroma.from_documents(documents = documents, embedding = embeddings)\n",
    "\n",
    "# Verify the number of items in the store\n",
    "vector_count = vector_store._collection.count()\n",
    "print(f\"ChromaDB vector store created with {vector_count} items.\")\n",
    "\n",
    "if vector_count == 0:\n",
    "    raise ValueError(\"Vector store creation resulted in 0 items. Check previous steps.\")"
   ],
   "id": "77363688353d9ec8",
   "outputs": [
    {
     "name": "stdout",
     "output_type": "stream",
     "text": [
      "Initializing free HuggingFace Embeddings model...\n",
      "ChromaDB vector store created with 42 items.\n"
     ]
    }
   ],
   "execution_count": 35
  },
  {
   "metadata": {
    "ExecuteTime": {
     "end_time": "2025-09-17T03:35:57.351693Z",
     "start_time": "2025-09-17T03:35:57.332357Z"
    }
   },
   "cell_type": "code",
   "source": [
    "# Let's retrieve the first chunk of stored data from the vector store\n",
    "stored_data = vector_store._collection.get(include=[\"embeddings\", \"documents\"], limit = 1)\n",
    "\n",
    "# Display the results\n",
    "print(\"First chunk text:\\n\", stored_data['documents'][0])\n",
    "print(\"\\nEmbedding vector:\\n\", stored_data['embeddings'][0])\n",
    "print(f\"\\nFull embedding has {len(stored_data['embeddings'][0])} dimensions.\")"
   ],
   "id": "8232ad5a1e293ef8",
   "outputs": [
    {
     "name": "stdout",
     "output_type": "stream",
     "text": [
      "First chunk text:\n",
      " Apple makes iPhones.\n",
      "\n",
      "Embedding vector:\n",
      " [-2.77918037e-02  1.61824822e-02  5.63803725e-02  3.45895439e-03\n",
      " -1.85915790e-02 -5.31174429e-02  3.41965929e-02  7.62359565e-03\n",
      "  7.41090998e-02  3.00534647e-02  6.53498247e-02  5.24698868e-02\n",
      " -8.22963845e-03  1.70048736e-02  1.13172010e-02 -1.97180975e-02\n",
      " -1.18543757e-02 -4.17266274e-04 -2.95869317e-02 -8.95853527e-03\n",
      "  1.80197619e-02  1.28979888e-02  3.54621634e-02  3.24524119e-02\n",
      "  8.27700421e-02  8.10092911e-02 -2.66854130e-02 -7.71054998e-02\n",
      "  8.90258607e-03 -2.24060547e-02 -2.45940406e-02 -1.19534396e-02\n",
      "  5.95315881e-02  6.48715794e-02 -2.99979094e-02 -5.67107536e-02\n",
      "  4.72821631e-02  2.82537453e-02  4.30075601e-02 -5.20041659e-02\n",
      " -2.97093578e-02 -9.54102911e-03  3.47380787e-02  9.33602080e-02\n",
      " -1.89554449e-02  9.89151001e-03  5.01697361e-02  2.48636724e-03\n",
      "  4.24956111e-03  1.75619032e-02  2.22722888e-02  3.42339277e-04\n",
      " -6.64007738e-02 -9.63471271e-03 -5.25200274e-04  2.70081256e-02\n",
      " -3.66409086e-02  7.32263364e-03  7.66011551e-02  5.42499833e-02\n",
      "  1.86838955e-02 -1.87303238e-02 -2.07624547e-02  5.66386469e-02\n",
      "  5.32302745e-02 -2.25090589e-02 -8.63717571e-02 -1.02980407e-02\n",
      " -5.16798086e-02 -4.98742759e-02  2.82653403e-02 -1.86902676e-02\n",
      "  5.51291108e-02  9.33617726e-02  1.86090935e-02  2.64048316e-02\n",
      "  8.07042345e-02 -2.23473515e-02 -4.78405133e-02  1.83190741e-02\n",
      " -4.24289107e-02 -1.95968710e-02 -2.00200044e-02  3.25007550e-02\n",
      "  4.06148694e-02 -3.88116948e-02 -2.57028993e-02  2.30315980e-02\n",
      " -4.15164381e-02 -6.22531734e-02 -6.96033388e-02  5.72029222e-03\n",
      " -1.78179797e-02 -5.38979284e-02 -6.73960568e-03 -1.10960491e-02\n",
      " -2.65462906e-03  9.87122394e-03 -5.34495004e-02  3.87027040e-02\n",
      "  1.22579318e-02  5.67061082e-03 -1.15041966e-02  4.06619646e-02\n",
      "  2.53227074e-02 -6.69395402e-02 -9.58538279e-02  5.74590347e-04\n",
      "  3.81411538e-02  1.31025583e-01  2.14046407e-02 -6.66229650e-02\n",
      " -7.52238259e-02  2.34697964e-02  6.19099336e-03 -5.18633462e-02\n",
      " -3.57540287e-02  8.00699815e-02  8.19823816e-02 -2.37446837e-02\n",
      " -2.92967856e-02  8.52428302e-02 -5.44714220e-02 -9.13854130e-03\n",
      " -9.50592980e-02 -2.05831137e-02 -3.68409939e-02 -5.09402901e-33\n",
      " -2.94656362e-02  3.37039530e-02  2.11072899e-02  4.08936627e-02\n",
      " -2.86416337e-02 -4.04969156e-02 -5.81298396e-03  1.05922140e-01\n",
      "  5.39530143e-02  2.46686712e-02 -3.00508235e-02 -8.98417681e-02\n",
      " -4.17058058e-02  3.38865817e-02  1.18729733e-01 -4.31401804e-02\n",
      " -5.93955107e-02 -4.03835103e-02 -1.37456814e-02 -3.80536169e-02\n",
      " -7.83726722e-02 -7.61591718e-02  5.77954575e-03  4.58165593e-02\n",
      " -3.57203037e-02 -3.32163349e-02  9.04178545e-02 -7.05640391e-02\n",
      "  1.27486642e-02 -2.57238690e-02 -3.32112499e-02  7.21394569e-02\n",
      "  1.56231346e-02 -7.89834186e-02 -5.59547581e-02  8.74290615e-02\n",
      "  4.28538490e-03 -3.15597467e-02  6.44933358e-02  6.39994219e-02\n",
      " -6.07491992e-02  1.10923275e-02 -1.98529512e-02  2.04966380e-03\n",
      "  8.16675127e-02  4.19660248e-02 -5.94328679e-02  9.01109818e-03\n",
      " -2.20730319e-03  1.82637554e-02 -4.89319675e-02 -1.26372743e-02\n",
      "  4.47030663e-02 -2.24655811e-02  2.46114060e-02 -3.65755684e-03\n",
      "  3.93910818e-02 -5.35820313e-02  3.97882126e-02  6.24763295e-02\n",
      " -7.67700672e-02  5.56152239e-02 -7.12554082e-02  5.96926324e-02\n",
      " -1.03595048e-01  9.26032960e-02  5.90225533e-02 -1.06281722e-02\n",
      " -7.27416426e-02  1.46884203e-01 -3.42991874e-02  1.37518616e-02\n",
      "  5.84880123e-03 -1.45111922e-02 -5.76145016e-02  6.65960647e-03\n",
      " -4.61050645e-02 -7.61809107e-03 -2.07934529e-02  2.26085316e-02\n",
      " -3.06501202e-02  1.43666426e-02  5.58414236e-02  2.16259006e-02\n",
      "  7.40123615e-02 -6.37608394e-02 -6.88534901e-02 -1.98776331e-02\n",
      "  4.81665246e-02  7.84146413e-02 -7.20587373e-02 -2.91454997e-02\n",
      " -6.77009895e-02  4.95813554e-03 -8.40458944e-02  2.69344474e-33\n",
      " -8.16846490e-02 -8.87707546e-02 -4.74869236e-02 -4.30744924e-02\n",
      " -1.03781307e-02 -6.71349168e-02 -5.10368459e-02 -2.32765879e-02\n",
      " -4.79946658e-02  1.32806497e-02  1.28851924e-03  2.39085164e-02\n",
      "  3.27050760e-02  3.10333166e-02 -4.42241244e-02 -4.49894220e-02\n",
      " -1.98558439e-02 -5.08249253e-02  6.52013300e-03  3.37480344e-02\n",
      "  1.18343476e-02  3.66622694e-02  7.85144269e-02  4.23308425e-02\n",
      " -6.12629531e-03 -3.99024524e-02 -1.78114846e-02  5.06058075e-02\n",
      "  2.87265014e-02 -2.00190730e-02  8.70375708e-03 -1.57914102e-01\n",
      " -2.70241741e-02  3.06496862e-02  5.14857695e-02  2.52195485e-02\n",
      " -7.25513399e-02  9.09108552e-04  3.52536663e-02 -7.68892244e-02\n",
      "  9.04463679e-02  3.36018354e-02  5.23557654e-03  8.01919550e-02\n",
      "  3.24206352e-02 -4.08563539e-02 -5.31646935e-03  7.01217577e-02\n",
      "  5.92696778e-02 -2.56191511e-02  2.89125983e-02 -1.08166682e-02\n",
      " -4.88808155e-02 -5.25954354e-04 -1.22464359e-01 -9.42822453e-03\n",
      "  4.81942892e-02 -2.49863081e-02  2.19125431e-02 -3.12421583e-02\n",
      "  3.30523551e-02 -1.59858167e-02  7.13264719e-02 -1.03338741e-01\n",
      " -4.43740785e-02 -6.67295083e-02 -9.29345842e-03  3.40466574e-02\n",
      " -1.95029639e-02  7.34927729e-02  1.00064956e-01  2.29449198e-02\n",
      "  8.49963073e-03 -4.65031341e-02 -3.45099419e-02  1.16172787e-02\n",
      " -2.17412841e-02  1.90715622e-02 -5.38129993e-02 -6.78531379e-02\n",
      "  9.88509208e-02  1.29415631e-01  5.32060750e-02  5.15719242e-02\n",
      "  8.54780376e-02  6.58043995e-02  6.87013119e-02 -1.22428332e-02\n",
      " -3.47602777e-02  8.57080296e-02 -9.29835660e-04  4.10990417e-02\n",
      " -2.72437558e-02  6.65663555e-02 -1.06070839e-01 -1.35373819e-08\n",
      "  2.63843220e-02 -2.76442915e-02  3.20815966e-02 -2.94531770e-02\n",
      " -4.64059412e-02  8.41708796e-04  3.67841423e-02 -1.66221522e-02\n",
      "  1.01420857e-01 -5.86957969e-02  8.28381907e-03 -5.19723967e-02\n",
      " -9.35557261e-02  1.31166995e-01  6.58981279e-02  3.42640802e-02\n",
      " -1.08406728e-03  8.05503950e-02 -8.93876713e-05 -3.43973190e-02\n",
      " -7.83208162e-02  5.10530733e-02 -4.16219840e-03  3.85889858e-02\n",
      " -9.04417038e-03  1.20671289e-02  1.80214327e-02 -5.82434051e-02\n",
      "  8.96837376e-03  6.25021532e-02  1.60903241e-02 -1.65966973e-02\n",
      " -2.66261380e-02  1.13553004e-02 -3.42213400e-02 -9.52763706e-02\n",
      " -2.73804441e-02 -2.31795087e-02  4.10410278e-02 -1.03739522e-01\n",
      " -8.34269598e-02 -2.54549459e-02  1.27734744e-03  7.48287514e-03\n",
      " -2.10725255e-02 -7.20284060e-02 -7.56292185e-03 -4.96106036e-02\n",
      "  3.12961848e-03  7.09483400e-02  2.84210388e-02 -3.24833617e-02\n",
      "  8.65710378e-02 -5.86434901e-02  5.34336828e-03 -3.62256393e-02\n",
      "  3.36160362e-02 -9.74183232e-02 -2.04476770e-02 -1.17888045e-03\n",
      "  7.22667202e-02 -2.61796601e-02  1.83428243e-01  7.70464614e-02]\n",
      "\n",
      "Full embedding has 384 dimensions.\n"
     ]
    }
   ],
   "execution_count": 41
  },
  {
   "metadata": {
    "ExecuteTime": {
     "end_time": "2025-09-17T03:38:58.485932Z",
     "start_time": "2025-09-17T03:38:58.272111Z"
    }
   },
   "cell_type": "code",
   "source": [
    "# Let's perform a similarity search in our vector store\n",
    "print(\"\\n--- Testing Similarity Search in Vector Store ---\")\n",
    "test_query = \"What different menus are offered?\"\n",
    "print(f\"Searching for documents similar to: '{test_query}'\")\n",
    "\n",
    "\n",
    "# Perform a similarity search. 'k=2' retrieves the top 2 most similar chunks\n",
    "try:\n",
    "    similar_docs = vector_store.similarity_search(test_query, k = 2)\n",
    "    print(f\"\\nFound {len(similar_docs)} similar documents:\")\n",
    "\n",
    "    # Display snippets of the retrieved documents and their sources\n",
    "    for i, doc in enumerate(similar_docs):\n",
    "        print(f\"\\n--- Document {i+1} ---\")\n",
    "        # Displaying the first 700 chars for brevity\n",
    "        content_snippet = doc.page_content[:700].strip() + \"...\"\n",
    "        source = doc.metadata.get(\"source\", \"Unknown Source\")  # Get source from metadata\n",
    "        print(f\"Content Snippet: {content_snippet}\")\n",
    "        print(f\"Source: {source}\")\n",
    "\n",
    "except Exception as e:\n",
    "    print(f\"An error occurred during similarity search: {e}\")\n",
    "\n"
   ],
   "id": "83419eb2442dfb82",
   "outputs": [
    {
     "name": "stdout",
     "output_type": "stream",
     "text": [
      "\n",
      "--- Testing Similarity Search in Vector Store ---\n",
      "Searching for documents similar to: 'What different menus are offered?'\n",
      "\n",
      "Found 2 similar documents:\n",
      "\n",
      "--- Document 1 ---\n",
      "Content Snippet: FAQs We are located at 11 Madison Avenue, on the northeast corner of East 24th and Madison Avenue, directly across the street from Madison Square Park. We offer three menus, all 100% plant-based: Full Tasting Menu : An eight- to nine-course experience priced at $365 per guest. This menu typically lasts about two to three hours and features a mix of plated and communal dishes. 5-Course Menu : Priced at $285 per guest, this menu highlights selections from the Full Tasting Menu and lasts approximately two hours. Bar Tasting Menu : Available in our lounge for $225 per guest, this menu includes four to five courses and is designed to last around two hours. Note : These durations are estimates bas...\n",
      "Source: eleven_madison_park_data.txt\n",
      "\n",
      "--- Document 2 ---\n",
      "Content Snippet: and ingredients. He and his team now work closely with our chefs in the kitchen to create a brand-new cocktail menu each season that complements and highlights ingredients from the tasting menu – constantly pushing boundaries when it comes to both technique and flavor. Mattia Rancati, Senior Sous Chef Stefano Casale , Senior Sous Chef Davide Peli, Sous Chef Luis Garcia, Sous Chef Marissa Mazzella, Sous Chef Pascal Rauwolf, Executive Pastry Sous Chef Orianna Mendez, Junior Pastry Sous Chef Pooja Harsora, Junior Sous Chef Youngbo Lee, Junior Sous Chef Alexander Mies, Purchasing Manager James Gale, Service Director Harry Basley, Dining Room Manager Eliazar Cervantes, Restaurant Operations Manag...\n",
      "Source: eleven_madison_park_data.txt\n"
     ]
    }
   ],
   "execution_count": 42
  }
 ],
 "metadata": {
  "kernelspec": {
   "display_name": "Python 3",
   "language": "python",
   "name": "python3"
  },
  "language_info": {
   "codemirror_mode": {
    "name": "ipython",
    "version": 2
   },
   "file_extension": ".py",
   "mimetype": "text/x-python",
   "name": "python",
   "nbconvert_exporter": "python",
   "pygments_lexer": "ipython2",
   "version": "2.7.6"
  }
 },
 "nbformat": 4,
 "nbformat_minor": 5
}
