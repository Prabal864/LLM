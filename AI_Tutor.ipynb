{
 "cells": [
  {
   "cell_type": "code",
   "id": "initial_id",
   "metadata": {
    "collapsed": true,
    "ExecuteTime": {
     "end_time": "2025-09-01T05:15:03.312105Z",
     "start_time": "2025-09-01T05:15:00.205790Z"
    }
   },
   "source": "!pip install gradio",
   "outputs": [
    {
     "name": "stdout",
     "output_type": "stream",
     "text": [
      "Requirement already satisfied: gradio in c:\\users\\940pp\\pycharmprojects\\jupyterproject\\.venv\\lib\\site-packages (5.44.1)\n",
      "Requirement already satisfied: aiofiles<25.0,>=22.0 in c:\\users\\940pp\\pycharmprojects\\jupyterproject\\.venv\\lib\\site-packages (from gradio) (24.1.0)\n",
      "Requirement already satisfied: anyio<5.0,>=3.0 in c:\\users\\940pp\\pycharmprojects\\jupyterproject\\.venv\\lib\\site-packages (from gradio) (4.10.0)\n",
      "Requirement already satisfied: audioop-lts<1.0 in c:\\users\\940pp\\pycharmprojects\\jupyterproject\\.venv\\lib\\site-packages (from gradio) (0.2.2)\n",
      "Requirement already satisfied: brotli>=1.1.0 in c:\\users\\940pp\\pycharmprojects\\jupyterproject\\.venv\\lib\\site-packages (from gradio) (1.1.0)\n",
      "Requirement already satisfied: fastapi<1.0,>=0.115.2 in c:\\users\\940pp\\pycharmprojects\\jupyterproject\\.venv\\lib\\site-packages (from gradio) (0.116.1)\n",
      "Requirement already satisfied: ffmpy in c:\\users\\940pp\\pycharmprojects\\jupyterproject\\.venv\\lib\\site-packages (from gradio) (0.6.1)\n",
      "Requirement already satisfied: gradio-client==1.12.1 in c:\\users\\940pp\\pycharmprojects\\jupyterproject\\.venv\\lib\\site-packages (from gradio) (1.12.1)\n",
      "Requirement already satisfied: groovy~=0.1 in c:\\users\\940pp\\pycharmprojects\\jupyterproject\\.venv\\lib\\site-packages (from gradio) (0.1.2)\n",
      "Requirement already satisfied: httpx<1.0,>=0.24.1 in c:\\users\\940pp\\pycharmprojects\\jupyterproject\\.venv\\lib\\site-packages (from gradio) (0.28.1)\n",
      "Requirement already satisfied: huggingface-hub<1.0,>=0.33.5 in c:\\users\\940pp\\pycharmprojects\\jupyterproject\\.venv\\lib\\site-packages (from gradio) (0.34.4)\n",
      "Requirement already satisfied: jinja2<4.0 in c:\\users\\940pp\\pycharmprojects\\jupyterproject\\.venv\\lib\\site-packages (from gradio) (3.1.6)\n",
      "Requirement already satisfied: markupsafe<4.0,>=2.0 in c:\\users\\940pp\\pycharmprojects\\jupyterproject\\.venv\\lib\\site-packages (from gradio) (3.0.2)\n",
      "Requirement already satisfied: numpy<3.0,>=1.0 in c:\\users\\940pp\\pycharmprojects\\jupyterproject\\.venv\\lib\\site-packages (from gradio) (2.3.2)\n",
      "Requirement already satisfied: orjson~=3.0 in c:\\users\\940pp\\pycharmprojects\\jupyterproject\\.venv\\lib\\site-packages (from gradio) (3.11.3)\n",
      "Requirement already satisfied: packaging in c:\\users\\940pp\\pycharmprojects\\jupyterproject\\.venv\\lib\\site-packages (from gradio) (25.0)\n",
      "Requirement already satisfied: pandas<3.0,>=1.0 in c:\\users\\940pp\\pycharmprojects\\jupyterproject\\.venv\\lib\\site-packages (from gradio) (2.3.2)\n",
      "Requirement already satisfied: pillow<12.0,>=8.0 in c:\\users\\940pp\\pycharmprojects\\jupyterproject\\.venv\\lib\\site-packages (from gradio) (11.3.0)\n",
      "Requirement already satisfied: pydantic<2.12,>=2.0 in c:\\users\\940pp\\pycharmprojects\\jupyterproject\\.venv\\lib\\site-packages (from gradio) (2.11.7)\n",
      "Requirement already satisfied: pydub in c:\\users\\940pp\\pycharmprojects\\jupyterproject\\.venv\\lib\\site-packages (from gradio) (0.25.1)\n",
      "Requirement already satisfied: python-multipart>=0.0.18 in c:\\users\\940pp\\pycharmprojects\\jupyterproject\\.venv\\lib\\site-packages (from gradio) (0.0.20)\n",
      "Requirement already satisfied: pyyaml<7.0,>=5.0 in c:\\users\\940pp\\pycharmprojects\\jupyterproject\\.venv\\lib\\site-packages (from gradio) (6.0.2)\n",
      "Requirement already satisfied: ruff>=0.9.3 in c:\\users\\940pp\\pycharmprojects\\jupyterproject\\.venv\\lib\\site-packages (from gradio) (0.12.11)\n",
      "Requirement already satisfied: safehttpx<0.2.0,>=0.1.6 in c:\\users\\940pp\\pycharmprojects\\jupyterproject\\.venv\\lib\\site-packages (from gradio) (0.1.6)\n",
      "Requirement already satisfied: semantic-version~=2.0 in c:\\users\\940pp\\pycharmprojects\\jupyterproject\\.venv\\lib\\site-packages (from gradio) (2.10.0)\n",
      "Requirement already satisfied: starlette<1.0,>=0.40.0 in c:\\users\\940pp\\pycharmprojects\\jupyterproject\\.venv\\lib\\site-packages (from gradio) (0.47.3)\n",
      "Requirement already satisfied: tomlkit<0.14.0,>=0.12.0 in c:\\users\\940pp\\pycharmprojects\\jupyterproject\\.venv\\lib\\site-packages (from gradio) (0.13.3)\n",
      "Requirement already satisfied: typer<1.0,>=0.12 in c:\\users\\940pp\\pycharmprojects\\jupyterproject\\.venv\\lib\\site-packages (from gradio) (0.17.3)\n",
      "Requirement already satisfied: typing-extensions~=4.0 in c:\\users\\940pp\\pycharmprojects\\jupyterproject\\.venv\\lib\\site-packages (from gradio) (4.15.0)\n",
      "Requirement already satisfied: uvicorn>=0.14.0 in c:\\users\\940pp\\pycharmprojects\\jupyterproject\\.venv\\lib\\site-packages (from gradio) (0.35.0)\n",
      "Requirement already satisfied: fsspec in c:\\users\\940pp\\pycharmprojects\\jupyterproject\\.venv\\lib\\site-packages (from gradio-client==1.12.1->gradio) (2025.7.0)\n",
      "Requirement already satisfied: websockets<16.0,>=10.0 in c:\\users\\940pp\\pycharmprojects\\jupyterproject\\.venv\\lib\\site-packages (from gradio-client==1.12.1->gradio) (15.0.1)\n",
      "Requirement already satisfied: idna>=2.8 in c:\\users\\940pp\\pycharmprojects\\jupyterproject\\.venv\\lib\\site-packages (from anyio<5.0,>=3.0->gradio) (3.10)\n",
      "Requirement already satisfied: sniffio>=1.1 in c:\\users\\940pp\\pycharmprojects\\jupyterproject\\.venv\\lib\\site-packages (from anyio<5.0,>=3.0->gradio) (1.3.1)\n",
      "Requirement already satisfied: certifi in c:\\users\\940pp\\pycharmprojects\\jupyterproject\\.venv\\lib\\site-packages (from httpx<1.0,>=0.24.1->gradio) (2025.8.3)\n",
      "Requirement already satisfied: httpcore==1.* in c:\\users\\940pp\\pycharmprojects\\jupyterproject\\.venv\\lib\\site-packages (from httpx<1.0,>=0.24.1->gradio) (1.0.9)\n",
      "Requirement already satisfied: h11>=0.16 in c:\\users\\940pp\\pycharmprojects\\jupyterproject\\.venv\\lib\\site-packages (from httpcore==1.*->httpx<1.0,>=0.24.1->gradio) (0.16.0)\n",
      "Requirement already satisfied: filelock in c:\\users\\940pp\\pycharmprojects\\jupyterproject\\.venv\\lib\\site-packages (from huggingface-hub<1.0,>=0.33.5->gradio) (3.19.1)\n",
      "Requirement already satisfied: requests in c:\\users\\940pp\\pycharmprojects\\jupyterproject\\.venv\\lib\\site-packages (from huggingface-hub<1.0,>=0.33.5->gradio) (2.32.5)\n",
      "Requirement already satisfied: tqdm>=4.42.1 in c:\\users\\940pp\\pycharmprojects\\jupyterproject\\.venv\\lib\\site-packages (from huggingface-hub<1.0,>=0.33.5->gradio) (4.67.1)\n",
      "Requirement already satisfied: python-dateutil>=2.8.2 in c:\\users\\940pp\\pycharmprojects\\jupyterproject\\.venv\\lib\\site-packages (from pandas<3.0,>=1.0->gradio) (2.9.0.post0)\n",
      "Requirement already satisfied: pytz>=2020.1 in c:\\users\\940pp\\pycharmprojects\\jupyterproject\\.venv\\lib\\site-packages (from pandas<3.0,>=1.0->gradio) (2025.2)\n",
      "Requirement already satisfied: tzdata>=2022.7 in c:\\users\\940pp\\pycharmprojects\\jupyterproject\\.venv\\lib\\site-packages (from pandas<3.0,>=1.0->gradio) (2025.2)\n",
      "Requirement already satisfied: annotated-types>=0.6.0 in c:\\users\\940pp\\pycharmprojects\\jupyterproject\\.venv\\lib\\site-packages (from pydantic<2.12,>=2.0->gradio) (0.7.0)\n",
      "Requirement already satisfied: pydantic-core==2.33.2 in c:\\users\\940pp\\pycharmprojects\\jupyterproject\\.venv\\lib\\site-packages (from pydantic<2.12,>=2.0->gradio) (2.33.2)\n",
      "Requirement already satisfied: typing-inspection>=0.4.0 in c:\\users\\940pp\\pycharmprojects\\jupyterproject\\.venv\\lib\\site-packages (from pydantic<2.12,>=2.0->gradio) (0.4.1)\n",
      "Requirement already satisfied: click>=8.0.0 in c:\\users\\940pp\\pycharmprojects\\jupyterproject\\.venv\\lib\\site-packages (from typer<1.0,>=0.12->gradio) (8.2.1)\n",
      "Requirement already satisfied: shellingham>=1.3.0 in c:\\users\\940pp\\pycharmprojects\\jupyterproject\\.venv\\lib\\site-packages (from typer<1.0,>=0.12->gradio) (1.5.4)\n",
      "Requirement already satisfied: rich>=10.11.0 in c:\\users\\940pp\\pycharmprojects\\jupyterproject\\.venv\\lib\\site-packages (from typer<1.0,>=0.12->gradio) (14.1.0)\n",
      "Requirement already satisfied: colorama in c:\\users\\940pp\\pycharmprojects\\jupyterproject\\.venv\\lib\\site-packages (from click>=8.0.0->typer<1.0,>=0.12->gradio) (0.4.6)\n",
      "Requirement already satisfied: six>=1.5 in c:\\users\\940pp\\pycharmprojects\\jupyterproject\\.venv\\lib\\site-packages (from python-dateutil>=2.8.2->pandas<3.0,>=1.0->gradio) (1.17.0)\n",
      "Requirement already satisfied: markdown-it-py>=2.2.0 in c:\\users\\940pp\\pycharmprojects\\jupyterproject\\.venv\\lib\\site-packages (from rich>=10.11.0->typer<1.0,>=0.12->gradio) (4.0.0)\n",
      "Requirement already satisfied: pygments<3.0.0,>=2.13.0 in c:\\users\\940pp\\pycharmprojects\\jupyterproject\\.venv\\lib\\site-packages (from rich>=10.11.0->typer<1.0,>=0.12->gradio) (2.19.2)\n",
      "Requirement already satisfied: mdurl~=0.1 in c:\\users\\940pp\\pycharmprojects\\jupyterproject\\.venv\\lib\\site-packages (from markdown-it-py>=2.2.0->rich>=10.11.0->typer<1.0,>=0.12->gradio) (0.1.2)\n",
      "Requirement already satisfied: charset_normalizer<4,>=2 in c:\\users\\940pp\\pycharmprojects\\jupyterproject\\.venv\\lib\\site-packages (from requests->huggingface-hub<1.0,>=0.33.5->gradio) (3.4.3)\n",
      "Requirement already satisfied: urllib3<3,>=1.21.1 in c:\\users\\940pp\\pycharmprojects\\jupyterproject\\.venv\\lib\\site-packages (from requests->huggingface-hub<1.0,>=0.33.5->gradio) (2.5.0)\n"
     ]
    },
    {
     "name": "stderr",
     "output_type": "stream",
     "text": [
      "\n",
      "[notice] A new release of pip is available: 25.1.1 -> 25.2\n",
      "[notice] To update, run: python.exe -m pip install --upgrade pip\n"
     ]
    }
   ],
   "execution_count": 2
  },
  {
   "metadata": {
    "ExecuteTime": {
     "end_time": "2025-09-01T05:19:35.009429Z",
     "start_time": "2025-09-01T05:19:35.003733Z"
    }
   },
   "cell_type": "code",
   "source": [
    "import os\n",
    "from openai import OpenAI\n",
    "from dotenv import load_dotenv\n",
    "from IPython.display import display, Markdown"
   ],
   "id": "1966b111bbe649db",
   "outputs": [],
   "execution_count": 7
  },
  {
   "metadata": {
    "ExecuteTime": {
     "end_time": "2025-09-01T05:31:08.545753Z",
     "start_time": "2025-09-01T05:31:07.956557Z"
    }
   },
   "cell_type": "code",
   "source": [
    "load_dotenv()\n",
    "openai_api_key = os.getenv(\"OPENAI_API_KEY\")\n",
    "openai_client = OpenAI(base_url=\"https://openrouter.ai/api/v1\"\n",
    "                       ,api_key=openai_api_key)\n",
    "print(\"Successfully connected to OpenRouter\")\n",
    "print(openai_api_key[:5])"
   ],
   "id": "b8e0b242c01ef888",
   "outputs": [
    {
     "name": "stdout",
     "output_type": "stream",
     "text": [
      "Successfully connected to OpenRouter\n",
      "sk-or\n"
     ]
    }
   ],
   "execution_count": 18
  },
  {
   "metadata": {
    "ExecuteTime": {
     "end_time": "2025-09-01T05:26:30.188902Z",
     "start_time": "2025-09-01T05:26:30.180629Z"
    }
   },
   "cell_type": "code",
   "source": [
    "# Function to display markdown text in Jupyter\n",
    "def print_markdown(text):\n",
    "    display(Markdown(text))"
   ],
   "id": "ff70a667c4627522",
   "outputs": [],
   "execution_count": 9
  },
  {
   "metadata": {
    "ExecuteTime": {
     "end_time": "2025-09-01T05:31:11.620055Z",
     "start_time": "2025-09-01T05:31:11.611859Z"
    }
   },
   "cell_type": "code",
   "source": [
    "# Let's define the Python function to get a response from the AI Tutor\n",
    "def get_ai_tutor_response(user_question):\n",
    "\n",
    "    system_prompt = \"You are a helpful and patient AI Tutor. Explain concepts clearly and concisely.\"\n",
    "\n",
    "    try:\n",
    "\n",
    "        response = openai_client.chat.completions.create(\n",
    "            model = \"qwen/qwen2.5-vl-72b-instruct:free\",\n",
    "            messages = [{\"role\": \"system\", \"content\": system_prompt}, {\"role\": \"user\", \"content\": user_question}],\n",
    "            temperature = 0.7,  # Allows for some creativity but keeps responses focused\n",
    "        )\n",
    "        # Extract the answer content\n",
    "        ai_response = response.choices[0].message.content\n",
    "        return ai_response\n",
    "\n",
    "    except Exception as e:\n",
    "\n",
    "        print(f\"An error occurred: {e}\")\n",
    "        return f\"Sorry, I encountered an error trying to get an answer: {e}\""
   ],
   "id": "27a8c7c1233ce105",
   "outputs": [],
   "execution_count": 19
  },
  {
   "metadata": {
    "ExecuteTime": {
     "end_time": "2025-09-01T05:31:28.160875Z",
     "start_time": "2025-09-01T05:31:15.709415Z"
    }
   },
   "cell_type": "code",
   "source": [
    "test_question = \"Could you explain the concept of functions in Python and their purpose in programming?\"\n",
    "print_markdown(f\"Asking the AI Tutor: '{test_question}'\")\n",
    "\n",
    "tutor_answer = get_ai_tutor_response(test_question)\n",
    "\n",
    "print_markdown(\"\\n🤖 AI Tutor's Response:\\n\")\n",
    "print_markdown(tutor_answer)"
   ],
   "id": "c3a82ee504bf6edc",
   "outputs": [
    {
     "data": {
      "text/plain": [
       "<IPython.core.display.Markdown object>"
      ],
      "text/markdown": "Asking the AI Tutor: 'Could you explain the concept of functions in Python and their purpose in programming?'"
     },
     "metadata": {},
     "output_type": "display_data",
     "jetTransient": {
      "display_id": null
     }
    },
    {
     "data": {
      "text/plain": [
       "<IPython.core.display.Markdown object>"
      ],
      "text/markdown": "\n🤖 AI Tutor's Response:\n"
     },
     "metadata": {},
     "output_type": "display_data",
     "jetTransient": {
      "display_id": null
     }
    },
    {
     "data": {
      "text/plain": [
       "<IPython.core.display.Markdown object>"
      ],
      "text/markdown": "Certainly! In Python, functions are blocks of code designed to perform a specific task. They help make your code more organized, reusable, and manageable. Here’s a concise breakdown of what functions are and why they are important:\n\n1. **Definition**: A function in Python is defined using the `def` keyword, followed by the function name and parentheses. You can also specify parameters within these parentheses that the function accepts.\n\n2. **Purpose**: Functions serve several key purposes:\n   - **Reusability**: Once a function is defined, you can reuse it throughout your program without rewriting the same code over and over.\n   - **Modularity**: They allow complex problems to be broken down into smaller, more manageable tasks.\n   - **Abstraction**: Functions hide the complexity of how a task is performed, allowing you to focus on higher-level logic.\n\n3. **Execution**: Functions only execute when they are called. You call a function by writing its name followed by parentheses, and optionally including arguments.\n\n4. **Return Values**: Functions can return data as a result. You use the `return` statement to send a value back to the caller. If no return statement is used, the function returns `None`.\n\nHere’s a simple example of a function that adds two numbers:\n\n```python\ndef add_numbers(a, b):\n    \"\"\"This function adds two numbers\"\"\"\n    return a + b\n\n# Calling the function\nresult = add_numbers(5, 3)\nprint(\"The sum is\", result)\n```\n\nIn this example:\n- `add_numbers` is the name of the function.\n- `a` and `b` are parameters.\n- The function body contains a single line that adds `a` and `b`.\n- The `return` statement sends the result back to where the function was called.\n\nFunctions are fundamental in programming because they promote better organization of your code and facilitate easier debugging and maintenance. They are a cornerstone of structured and object-oriented programming paradigms."
     },
     "metadata": {},
     "output_type": "display_data",
     "jetTransient": {
      "display_id": null
     }
    }
   ],
   "execution_count": 20
  }
 ],
 "metadata": {
  "kernelspec": {
   "display_name": "Python 3",
   "language": "python",
   "name": "python3"
  },
  "language_info": {
   "codemirror_mode": {
    "name": "ipython",
    "version": 2
   },
   "file_extension": ".py",
   "mimetype": "text/x-python",
   "name": "python",
   "nbconvert_exporter": "python",
   "pygments_lexer": "ipython2",
   "version": "2.7.6"
  }
 },
 "nbformat": 4,
 "nbformat_minor": 5
}
